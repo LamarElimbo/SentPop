{
 "cells": [
  {
   "cell_type": "code",
   "execution_count": 10,
   "metadata": {
    "collapsed": true
   },
   "outputs": [],
   "source": [
    "award_selection_query = [{\"awards\": [{\"nominees\": [\"Call Me By Your Name\", \"Dunkirk\", \"The Post\", \"The Shape of Water\", \"Three Billboards Outside Ebbing, Missouri\"], \"award_type\": \"Best Motion Picture - Drama\"}, {\"nominees\": [\"I, Tonya\", \"Lady Bird\", \"The Disaster Artist\", \"Get Out\", \"The Greatest Showman\"], \"award_type\": \"Best Motion Picture - Musical or Comedy\"}]}]"
   ]
  },
  {
   "cell_type": "code",
   "execution_count": 12,
   "metadata": {
    "collapsed": false
   },
   "outputs": [],
   "source": [
    "award_selection_nominees = []\n",
    "for award in award_selection_query[0][\"awards\"]:\n",
    "    if award['award_type'] == 'Best Motion Picture - Drama':\n",
    "        award_selection_nominees.extend(award['nominees'])"
   ]
  },
  {
   "cell_type": "code",
   "execution_count": 15,
   "metadata": {
    "collapsed": false
   },
   "outputs": [
    {
     "data": {
      "text/plain": [
       "['Call Me By Your Name',\n",
       " 'Dunkirk',\n",
       " 'The Post',\n",
       " 'The Shape of Water',\n",
       " 'Three Billboards Outside Ebbing, Missouri']"
      ]
     },
     "execution_count": 15,
     "metadata": {},
     "output_type": "execute_result"
    }
   ],
   "source": [
    "sorted(award_selection_nominees)"
   ]
  },
  {
   "cell_type": "code",
   "execution_count": null,
   "metadata": {
    "collapsed": true
   },
   "outputs": [],
   "source": []
  }
 ],
 "metadata": {
  "kernelspec": {
   "display_name": "Python 3",
   "language": "python",
   "name": "python3"
  },
  "language_info": {
   "codemirror_mode": {
    "name": "ipython",
    "version": 3
   },
   "file_extension": ".py",
   "mimetype": "text/x-python",
   "name": "python",
   "nbconvert_exporter": "python",
   "pygments_lexer": "ipython3",
   "version": "3.5.2"
  }
 },
 "nbformat": 4,
 "nbformat_minor": 0
}
